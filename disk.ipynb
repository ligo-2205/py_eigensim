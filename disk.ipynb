{
 "cells": [
  {
   "cell_type": "code",
   "execution_count": 1,
   "metadata": {},
   "outputs": [],
   "source": [
    "import re\n",
    "import shutil\n",
    "import time\n",
    "from pathlib import Path\n",
    "\n",
    "import mph\n",
    "import numpy as np\n",
    "import yaml\n",
    "\n",
    "from sdisk import *"
   ]
  },
  {
   "cell_type": "markdown",
   "metadata": {},
   "source": [
    "This is the main `jupyter notebook` to automate running eigenfrequency simulations in COMSOL.\n",
    "\n",
    "First, we define all the relative paths to access the parameters, layouts, and results.\n",
    "\n",
    "For this example, we will consider the the \"sdisk\" design, so we specify the directory containing layouts to `layouts_path = Path(r\"layouts\\sdisk\\layouts\")`"
   ]
  },
  {
   "cell_type": "code",
   "execution_count": 2,
   "metadata": {},
   "outputs": [],
   "source": [
    "param_path = Path(r\"layouts\\sdisk\\params\")\n",
    "layouts_path = Path(r\"layouts\\sdisk\\layouts\")\n",
    "results_path = Path(r\"results\")"
   ]
  },
  {
   "cell_type": "code",
   "execution_count": 3,
   "metadata": {},
   "outputs": [],
   "source": [
    "def load_results(index: int) -> np.ndarray: \n",
    "    name = Path(r\"sdisk{}.csv\".format(index))\n",
    "    return np.genfromtxt(results_path/name)"
   ]
  },
  {
   "cell_type": "code",
   "execution_count": 4,
   "metadata": {},
   "outputs": [],
   "source": [
    "def generate_yaml(param_path:Path, params:dict) -> None:\n",
    "    i = 0\n",
    "    for gds in param_path.glob(\"*.yml\"):\n",
    "        existing_i = int(re.findall(r'[0-9]+', gds.name)[0])\n",
    "        if existing_i >= i:\n",
    "            i = existing_i + 1\n",
    "            \n",
    "    yml_path = param_path/Path(r\"sdisk{}.yml\".format(i))\n",
    "    \n",
    "    with open(yml_path, \"w\") as out:\n",
    "        yaml.dump(params, out, default_flow_style=False)"
   ]
  },
  {
   "cell_type": "code",
   "execution_count": 5,
   "metadata": {},
   "outputs": [],
   "source": [
    "def read_yaml(param_path:Path, filename:Path, *variable:str):\n",
    "    with open(param_path/filename, \"r\") as f:\n",
    "        p = yaml.safe_load(f)\n",
    "    \n",
    "    if len(variable) == 1: \n",
    "        return p[variable[0]]\n",
    "    else:\n",
    "        return tuple([p[v] for v in variable]) "
   ]
  },
  {
   "cell_type": "markdown",
   "metadata": {},
   "source": [
    "The idea is that this notebook will \n",
    "1. Read a list of yml files \n",
    "2. From the yml files, generate the corresponding gds file \n",
    "3. COMSOL will perform the simulation using that gds file \n",
    "4. Save results to a specified directory"
   ]
  },
  {
   "cell_type": "markdown",
   "metadata": {},
   "source": [
    "### GDS generation\n",
    "\n",
    "For every new gds generated, the `generate_` functions automatically indexes the new files with some integer. "
   ]
  },
  {
   "cell_type": "code",
   "execution_count": null,
   "metadata": {},
   "outputs": [],
   "source": [
    "# arm_pitch_ratio depends on the thickness of the meander lines \n",
    "# thickness depends on the disk radius \n",
    "default_params = {'arm_inner_frac': 0.05,\n",
    "                  'arm_n': 4,\n",
    "                  'arm_outer_frac': 0.05,\n",
    "                  'arm_pitch_ratio': 1.2,\n",
    "                  'arm_thetas': [0, 90, 180, 270],\n",
    "                  'arm_thick_frac': 0.05,\n",
    "                  'arm_w_frac': 0.5,\n",
    "                  'actual_disk_r': 500,\n",
    "                  'disk_r': 500,\n",
    "                  'inner_arc_frac': 0.25,\n",
    "                  'ped_arc_frac': 0.1\n",
    "                  }\n",
    "    \n",
    "for k in range(1, 10):\n",
    "    default_params['arm_n'] = k\n",
    "    generate_yaml(param_path, default_params)\n",
    "    generate_gds(default_params)"
   ]
  },
  {
   "cell_type": "markdown",
   "metadata": {},
   "source": [
    "### Loading and running the model\n",
    "\n",
    "For more information on how to extend the capabilties of the this code, refer to the [documentation](https://mph.readthedocs.io/en/stable/) for the `mph` package.\n",
    "\n",
    "The code automatically runs the eigenfrequency simulations by loading the comsol file `disk.mph` with a particular KLayout file. To change how many eigenfrequencies will be solve for requires manually changing this setting in the COMSOL GUI. After the simulation completes, the following are saves to the `results` directory: \n",
    "1. Labled and unlabeled images for the mode shape\n",
    "2. Eigenfrequencies found \n",
    "3. Copy of the gds file \n",
    "4. Copy of the settings used to produce the gds file.  "
   ]
  },
  {
   "cell_type": "code",
   "execution_count": 6,
   "metadata": {},
   "outputs": [],
   "source": [
    "# we can specify how many cores we want to use here by using the `core` keyword\n",
    "client = mph.start()\n",
    "# make sure your COMSOL file in the correct directory!\n",
    "model = client.load('disk.mph')"
   ]
  },
  {
   "cell_type": "code",
   "execution_count": 7,
   "metadata": {},
   "outputs": [
    {
     "name": "stdout",
     "output_type": "stream",
     "text": [
      "Changing pedestal_r to 50.0...\n",
      "Changing design to sdisk35...\n",
      "\tSolving... 😀\n",
      "\tCompleted in 81.9 seconds. Exporting...\n",
      "\tExport complete...\n"
     ]
    }
   ],
   "source": [
    "for i in range(35, 36):\n",
    "    gds = Path(r\"sdisk{}.gds\".format(i))\n",
    "    param = Path(r\"sdisk{}.yml\".format(i))\n",
    "    gds_name = gds.name.replace(\".gds\", \"\")\n",
    "\n",
    "    gds_path = layouts_path/gds\n",
    "    full_param_path = param_path/param\n",
    "    \n",
    "    ped_arc_frac, disk_r = read_yaml(param_path, Path(r\"sdisk{}.yml\".format(i)), \"ped_arc_frac\", \"disk_r\")\n",
    "    pedestal_r = ped_arc_frac*disk_r\n",
    "    print(\"Changing pedestal_r to {}...\".format(pedestal_r))\n",
    "    model.parameter(\"pedestal_r\", f\"{pedestal_r}[um]\")\n",
    "    \n",
    "    print(\"Changing design to {}...\".format(gds_name))\n",
    "    model.property(\"geometries/Geometry 1/Import 1\", \"filename\", str(gds_path))\n",
    "    model.build()\n",
    "\n",
    "    print(\"\\tSolving... \\U0001F600\")\n",
    "    t0 = time.time()\n",
    "    model.solve(model.studies()[0])\n",
    "    t1 = time.time()\n",
    "\n",
    "    print(\"\\tCompleted in {:.1f} seconds. Exporting...\".format(t1-t0))\n",
    "\n",
    "    table_name = gds_name + \".csv\"\n",
    "    table_path = results_path/Path(table_name)\n",
    "    ef = model.evaluate(\"freq\")\n",
    "    np.savetxt(table_path, ef, header=\"Eigenfrequency (Hz)\",)\n",
    "\n",
    "    shutil.copy(gds_path, results_path/gds)\n",
    "    shutil.copy(full_param_path, results_path/param)\n",
    "\n",
    "    fig_dir = Path(results_path/Path(gds_name + \"_labeled\"))\n",
    "    fig_dir.mkdir(parents=True, exist_ok=True)\n",
    "    fig_path = fig_dir/Path(gds_name + \"_\")\n",
    "\n",
    "    model.property(\"exports/Labeled\", \"imagefilename\", str(fig_path))\n",
    "    model.export('Labeled')\n",
    "\n",
    "    fig_dir = Path(results_path/Path(gds_name + \"_unlabeled\"))\n",
    "    fig_dir.mkdir(parents=True, exist_ok=True)\n",
    "    fig_path = fig_dir/Path(gds_name + \"_\")\n",
    "\n",
    "    model.property(\"exports/Unlabeled\", \"imagefilename\", str(fig_path))\n",
    "    model.export('Unlabeled')\n",
    "    print(\"\\tExport complete...\")\n"
   ]
  },
  {
   "cell_type": "code",
   "execution_count": 8,
   "metadata": {},
   "outputs": [],
   "source": [
    "# discard all the data and everything that we don't need\n",
    "model.clear()\n",
    "model.reset()\n",
    "model.save()"
   ]
  }
 ],
 "metadata": {
  "interpreter": {
   "hash": "cf84bb6cc98c5b5dbef382cde0f5802d0a5166a8560a0d8229b2d9763b50fc01"
  },
  "kernelspec": {
   "display_name": "Python 3.9.6 64-bit ('ray': conda)",
   "language": "python",
   "name": "python3"
  },
  "language_info": {
   "codemirror_mode": {
    "name": "ipython",
    "version": 3
   },
   "file_extension": ".py",
   "mimetype": "text/x-python",
   "name": "python",
   "nbconvert_exporter": "python",
   "pygments_lexer": "ipython3",
   "version": "3.9.6"
  },
  "orig_nbformat": 4
 },
 "nbformat": 4,
 "nbformat_minor": 2
}
